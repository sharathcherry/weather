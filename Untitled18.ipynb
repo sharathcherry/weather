{
 "cells": [
  {
   "cell_type": "code",
   "execution_count": 11,
   "id": "77e256f0-83ef-44bd-8891-b8a796d3dfde",
   "metadata": {},
   "outputs": [
    {
     "name": "stdout",
     "output_type": "stream",
     "text": [
      "Requirement already satisfied: requests in c:\\users\\katuk\\anaconda3\\lib\\site-packages (2.32.3)\n",
      "Requirement already satisfied: beautifulsoup4 in c:\\users\\katuk\\anaconda3\\lib\\site-packages (4.12.3)\n",
      "Requirement already satisfied: charset-normalizer<4,>=2 in c:\\users\\katuk\\anaconda3\\lib\\site-packages (from requests) (3.3.2)\n",
      "Requirement already satisfied: idna<4,>=2.5 in c:\\users\\katuk\\anaconda3\\lib\\site-packages (from requests) (3.7)\n",
      "Requirement already satisfied: urllib3<3,>=1.21.1 in c:\\users\\katuk\\anaconda3\\lib\\site-packages (from requests) (2.2.3)\n",
      "Requirement already satisfied: certifi>=2017.4.17 in c:\\users\\katuk\\anaconda3\\lib\\site-packages (from requests) (2024.8.30)\n",
      "Requirement already satisfied: soupsieve>1.2 in c:\\users\\katuk\\anaconda3\\lib\\site-packages (from beautifulsoup4) (2.5)\n"
     ]
    }
   ],
   "source": [
    "!pip install requests beautifulsoup4\n",
    "\n",
    "\n",
    "\n",
    "\n",
    "\n"
   ]
  },
  {
   "cell_type": "code",
   "execution_count": 12,
   "id": "090fa2cc-67c7-4b59-926d-c8ff7a0ea6e5",
   "metadata": {},
   "outputs": [],
   "source": [
    "import requests\n",
    "\n",
    "from bs4 import BeautifulSoup\n",
    "\n",
    " \n",
    "\n",
    "# URL to scrape\n",
    "\n",
    "url = \"http://quotes.toscrape.com/\"\n",
    "\n",
    " \n",
    "\n",
    "# Send a GET request\n",
    "\n",
    "response = requests.get(url)"
   ]
  },
  {
   "cell_type": "code",
   "execution_count": 13,
   "id": "f08af189-7ae4-4291-86b9-0ae6d8b06bb3",
   "metadata": {},
   "outputs": [
    {
     "name": "stdout",
     "output_type": "stream",
     "text": [
      "1. \"“The world as we have created it is a process of our thinking. It cannot be changed without changing our thinking.”\" - Albert Einstein\n",
      "   Tags: change, deep-thoughts, thinking, world\n",
      "\n",
      "2. \"“It is our choices, Harry, that show what we truly are, far more than our abilities.”\" - J.K. Rowling\n",
      "   Tags: abilities, choices\n",
      "\n",
      "3. \"“There are only two ways to live your life. One is as though nothing is a miracle. The other is as though everything is a miracle.”\" - Albert Einstein\n",
      "   Tags: inspirational, life, live, miracle, miracles\n",
      "\n",
      "4. \"“The person, be it gentleman or lady, who has not pleasure in a good novel, must be intolerably stupid.”\" - Jane Austen\n",
      "   Tags: aliteracy, books, classic, humor\n",
      "\n",
      "5. \"“Imperfection is beauty, madness is genius and it's better to be absolutely ridiculous than absolutely boring.”\" - Marilyn Monroe\n",
      "   Tags: be-yourself, inspirational\n",
      "\n"
     ]
    }
   ],
   "source": [
    "# Check if the request was successful\n",
    "\n",
    "if response.status_code == 200:\n",
    "\n",
    "    # Parse the HTML\n",
    "\n",
    "    soup = BeautifulSoup(response.text, 'html.parser')\n",
    "\n",
    " \n",
    "\n",
    "    # Find all quote containers\n",
    "\n",
    "    quotes = soup.find_all(\"div\", class_=\"quote\")\n",
    "\n",
    " \n",
    "\n",
    "    # Loop through each quote and extract data\n",
    "\n",
    "    for i, quote in enumerate(quotes[:5]):  # Get first 5 quotes\n",
    "\n",
    "        text = quote.find(\"span\", class_=\"text\").text  # Quote text\n",
    "\n",
    "        author = quote.find(\"small\", class_=\"author\").text  # Author name\n",
    "\n",
    "        tags = [tag.text for tag in quote.find_all(\"a\", class_=\"tag\")]  # List of tags\n",
    "\n",
    "        \n",
    "\n",
    "        print(f\"{i+1}. \\\"{text}\\\" - {author}\")\n",
    "\n",
    "        print(f\"   Tags: {', '.join(tags)}\\n\")\n",
    "\n",
    "else:\n",
    "\n",
    "    print(f\"Failed to retrieve the webpage. Status Code: {response.status_code}\")"
   ]
  },
  {
   "cell_type": "code",
   "execution_count": 14,
   "id": "5aa0d9e9-c6c5-4f7d-ad7d-a66c7dc9d760",
   "metadata": {},
   "outputs": [],
   "source": [
    "import requests\n",
    "\n",
    "from bs4 import BeautifulSoup\n",
    "\n",
    " \n",
    "\n",
    "# Define the city (e.g., New York)\n",
    "\n",
    "city = \"india/hyderabad\"\n",
    "\n",
    " \n",
    "\n",
    "# Weather URL\n",
    "\n",
    "url = f\"https://www.timeanddate.com/weather/{city}\""
   ]
  },
  {
   "cell_type": "code",
   "execution_count": 15,
   "id": "59f0a60d-14e2-4a91-9420-784ad67d0c9f",
   "metadata": {},
   "outputs": [],
   "source": [
    "# Send GET request\n",
    "\n",
    "response = requests.get(url)\n",
    "\n",
    "soup = BeautifulSoup(response.text, 'html.parser')"
   ]
  },
  {
   "cell_type": "code",
   "execution_count": 16,
   "id": "b019f29d-e043-4bf3-b77e-ff9f303adc57",
   "metadata": {},
   "outputs": [],
   "source": [
    "# Extract temperature and description\n",
    "\n",
    "temp = soup.find(\"div\", class_=\"h2\").text.strip() if soup.find(\"div\", class_=\"h2\") else \"N/A\"\n",
    "\n",
    "desc = soup.find(\"p\").text.strip() if soup.find(\"p\") else \"N/A\"\n"
   ]
  },
  {
   "cell_type": "code",
   "execution_count": 17,
   "id": "330c4ae4-6766-4a8e-9c0a-194ea63e418a",
   "metadata": {},
   "outputs": [
    {
     "name": "stdout",
     "output_type": "stream",
     "text": [
      "Current Weather in Hyderabad: 28 °C | Haze.\n"
     ]
    }
   ],
   "source": [
    "print(f\"Current Weather in Hyderabad: {temp} | {desc}\")"
   ]
  },
  {
   "cell_type": "code",
   "execution_count": 18,
   "id": "9176a3b3-fabb-438b-9fe5-dc4cb6edfb30",
   "metadata": {},
   "outputs": [],
   "source": [
    "import requests\n",
    "\n",
    "from bs4 import BeautifulSoup\n",
    "\n",
    "# Product search URL (Example: iPhone)\n",
    "\n",
    "search_url = \"https://www.amazon.in/s?k=iphone&crid=PQVCJSNISAH4&sprefix=iphone%2Caps%2C233&ref=nb_sb_noss_2\"\n",
    "\n",
    "# Headers (Mimic a browser)\n",
    "\n",
    "headers = {\n",
    "\n",
    "    \"User-Agent\": \"Mozilla/5.0 (Windows NT 10.0; Win64; x64) AppleWebKit/537.36 (KHTML, like Gecko) Chrome/91.0.4472.124 Safari/537.36\"\n",
    "\n",
    "}"
   ]
  },
  {
   "cell_type": "code",
   "execution_count": 19,
   "id": "9dde7ca5-3b78-4777-a80b-e72690d4e577",
   "metadata": {},
   "outputs": [
    {
     "name": "stdout",
     "output_type": "stream",
     "text": [
      "Product: Life is easier on iPhone.\n",
      "Price: $43,999\n"
     ]
    }
   ],
   "source": [
    "# Send GET reques\n",
    "\n",
    "response = requests.get(search_url, headers=headers)\n",
    "\n",
    "soup = BeautifulSoup(response.text, \"html.parser\") \n",
    "\n",
    "# Extract first product name & price\n",
    "\n",
    "product = soup.select_one(\"span.a-size-medium\")\n",
    "\n",
    "price = soup.select_one(\"span.a-price-whole\")\n",
    "\n",
    "# Display product details\n",
    "\n",
    "if product and price:\n",
    "\n",
    "    print(f\"Product: {product.text.strip()}\")\n",
    "\n",
    "    print(f\"Price: ${price.text.strip()}\")\n",
    "\n",
    "else:\n",
    "\n",
    "    print(\"Could not find product details.\")"
   ]
  },
  {
   "cell_type": "code",
   "execution_count": null,
   "id": "c47598c2-ba8e-4146-91a3-cdb791bf3379",
   "metadata": {},
   "outputs": [],
   "source": []
  },
  {
   "cell_type": "code",
   "execution_count": null,
   "id": "f51e39d9-3d06-4037-b774-1c925b5fb59b",
   "metadata": {},
   "outputs": [],
   "source": []
  },
  {
   "cell_type": "code",
   "execution_count": null,
   "id": "96a648cc-298f-4443-91ac-20d2ecd777fe",
   "metadata": {},
   "outputs": [],
   "source": []
  },
  {
   "cell_type": "code",
   "execution_count": 20,
   "id": "f6852a79-fb4e-4611-b8e0-acd83342422b",
   "metadata": {},
   "outputs": [],
   "source": [
    "import requests\n",
    "\n",
    "from bs4 import BeautifulSoup\n",
    "\n",
    "# Product search URL (Example: iPhone)\n",
    "\n",
    "search_url = \"https://www.amazon.in/s?k=iphone&crid=PQVCJSNISAH4&sprefix=iphone%2Caps%2C233&ref=nb_sb_noss_2\"\n",
    "\n",
    "# Headers (Mimic a browser)\n",
    "\n",
    "headers = {\n",
    "\n",
    "    \"User-Agent\": \"Mozilla/5.0 (Windows NT 10.0; Win64; x64) AppleWebKit/537.36 (KHTML, like Gecko) Chrome/91.0.4472.124 Safari/537.36\"\n",
    "\n",
    "}"
   ]
  },
  {
   "cell_type": "code",
   "execution_count": 21,
   "id": "b179b6bd-b852-4b7f-a6ad-85b8e0357a39",
   "metadata": {},
   "outputs": [
    {
     "name": "stdout",
     "output_type": "stream",
     "text": [
      "Product: Life is easier on iPhone.\n",
      "Price: $43,999\n"
     ]
    }
   ],
   "source": [
    "# Send GET reques\n",
    "\n",
    "response = requests.get(search_url, headers=headers)\n",
    "\n",
    "soup = BeautifulSoup(response.text, \"html.parser\") \n",
    "\n",
    "# Extract first product name & price\n",
    "\n",
    "product = soup.select_one(\"span.a-size-medium\")\n",
    "\n",
    "price = soup.select_one(\"span.a-price-whole\")\n",
    "\n",
    "# Display product details\n",
    "\n",
    "if product and price:\n",
    "\n",
    "    print(f\"Product: {product.text.strip()}\")\n",
    "\n",
    "    print(f\"Price: ${price.text.strip()}\")\n",
    "\n",
    "else:\n",
    "\n",
    "    print(\"Could not find product details.\")\n",
    "    "
   ]
  },
  {
   "cell_type": "code",
   "execution_count": 22,
   "id": "e00383f3-699c-4f52-9bb1-2766ec90fcd7",
   "metadata": {},
   "outputs": [],
   "source": [
    "\n",
    "import requests\n",
    "\n",
    "from bs4 import BeautifulSoup\n",
    "\n",
    " \n",
    "\n",
    "# Wikipedia page URL\n",
    "\n",
    "url = \"https://en.wikipedia.org/wiki/List_of_countries_and_dependencies_by_population\""
   ]
  },
  {
   "cell_type": "code",
   "execution_count": 23,
   "id": "558afbce-3b41-452e-a80e-ea0a44a4c926",
   "metadata": {},
   "outputs": [],
   "source": [
    "# Send GET request\n",
    "\n",
    "response = requests.get(url,headers=headers)\n",
    "\n",
    "soup = BeautifulSoup(response.text, \"html.parser\")\n"
   ]
  },
  {
   "cell_type": "code",
   "execution_count": 24,
   "id": "a99aebfd-d36f-43ab-ac4c-cdbb031ff1bc",
   "metadata": {},
   "outputs": [],
   "source": [
    "# Find the table\n",
    "\n",
    "table = soup.find(\"table\", class_=\"wikitable\")"
   ]
  },
  {
   "cell_type": "code",
   "execution_count": 25,
   "id": "222f161d-3ea8-4f1a-bfd9-92e4f3f703a4",
   "metadata": {},
   "outputs": [
    {
     "name": "stdout",
     "output_type": "stream",
     "text": [
      "World: 8,119,000,000\n",
      "China: 1,408,280,000\n",
      "1,402,737,000: 17.2%\n",
      "United States: 340,110,988\n",
      "Indonesia: 282,477,584\n"
     ]
    }
   ],
   "source": [
    "# Extract the first 5 countries and their population\n",
    "\n",
    "for row in table.find_all(\"tr\")[1:6]:  # Skip the header row\n",
    "\n",
    "    columns = row.find_all(\"td\")\n",
    "\n",
    "    country = columns[1].text.strip()\n",
    "\n",
    "    population = columns[2].text.strip()\n",
    "\n",
    "    \n",
    "\n",
    "    print(f\"{country}: {population}\")"
   ]
  },
  {
   "cell_type": "code",
   "execution_count": 26,
   "id": "5d404708-19c5-4bdb-b105-082df6afccfe",
   "metadata": {},
   "outputs": [],
   "source": [
    "from IPython.display import display, HTML\n",
    "\n",
    "\n",
    "\n",
    "\n"
   ]
  },
  {
   "cell_type": "code",
   "execution_count": 27,
   "id": "5b37c17a-8430-478f-9141-c2e1efedc7e4",
   "metadata": {},
   "outputs": [
    {
     "data": {
      "text/html": [
       "<table>\n",
       "\n",
       "  <tr>\n",
       "\n",
       "    <th>Company</th>\n",
       "\n",
       "    <th>Contact</th>\n",
       "\n",
       "    <th>Country</th>\n",
       "\n",
       "  </tr>\n",
       "\n",
       "  <tr>\n",
       "\n",
       "    <td>Alfreds Futterkiste</td>\n",
       "\n",
       "    <td>Maria Anders</td>\n",
       "\n",
       "    <td>Germany</td>\n",
       "\n",
       "  </tr>\n",
       "\n",
       "  <tr>\n",
       "\n",
       "    <td>Centro comercial Moctezuma</td>\n",
       "\n",
       "    <td>Francisco Chang</td>\n",
       "\n",
       "    <td>Mexico</td>\n",
       "\n",
       "  </tr>\n",
       "\n",
       "</table>\n",
       "\n"
      ],
      "text/plain": [
       "<IPython.core.display.HTML object>"
      ]
     },
     "metadata": {},
     "output_type": "display_data"
    }
   ],
   "source": [
    "display(HTML(\"\"\"<table>\n",
    "\n",
    "  <tr>\n",
    "\n",
    "    <th>Company</th>\n",
    "\n",
    "    <th>Contact</th>\n",
    "\n",
    "    <th>Country</th>\n",
    "\n",
    "  </tr>\n",
    "\n",
    "  <tr>\n",
    "\n",
    "    <td>Alfreds Futterkiste</td>\n",
    "\n",
    "    <td>Maria Anders</td>\n",
    "\n",
    "    <td>Germany</td>\n",
    "\n",
    "  </tr>\n",
    "\n",
    "  <tr>\n",
    "\n",
    "    <td>Centro comercial Moctezuma</td>\n",
    "\n",
    "    <td>Francisco Chang</td>\n",
    "\n",
    "    <td>Mexico</td>\n",
    "\n",
    "  </tr>\n",
    "\n",
    "</table>\n",
    "\n",
    "\"\"\"))"
   ]
  },
  {
   "cell_type": "code",
   "execution_count": null,
   "id": "c6bb8539-12bb-4b72-b7ce-61a82136e3b0",
   "metadata": {},
   "outputs": [],
   "source": [
    " "
   ]
  }
 ],
 "metadata": {
  "kernelspec": {
   "display_name": "Python 3 (ipykernel)",
   "language": "python",
   "name": "python3"
  },
  "language_info": {
   "codemirror_mode": {
    "name": "ipython",
    "version": 3
   },
   "file_extension": ".py",
   "mimetype": "text/x-python",
   "name": "python",
   "nbconvert_exporter": "python",
   "pygments_lexer": "ipython3",
   "version": "3.12.7"
  }
 },
 "nbformat": 4,
 "nbformat_minor": 5
}
